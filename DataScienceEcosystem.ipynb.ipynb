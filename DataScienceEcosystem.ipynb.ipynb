{
 "cells": [
  {
   "cell_type": "markdown",
   "id": "a33cbed4-4a42-41d0-8a1f-6b70b3c19422",
   "metadata": {},
   "source": [
    "# **Data Science Tools and Ecosystem**\n"
   ]
  },
  {
   "cell_type": "markdown",
   "id": "8db44846-4d94-4af1-a171-c181ed186556",
   "metadata": {},
   "source": [
    "In this notebook, Data Science Tools and Ecosystem are summarized."
   ]
  },
  {
   "cell_type": "markdown",
   "id": "9982ba46-ad60-452e-9437-66edfa8eb305",
   "metadata": {},
   "source": [
    "Some of the popular languages that Data Scientists use are:\n",
    "\n",
    "1. **Python:**\n",
    "   - Known for its simplicity and readability, Python is widely used in the data science community. It has a vast ecosystem of libraries and frameworks like NumPy, Pandas, and scikit-learn.\n",
    "\n",
    "2. **R:**\n",
    "   - R is a statistical programming language that is extensively used for data analysis and visualization. It offers a rich set of statistical and mathematical packages for advanced analytics.\n",
    "\n",
    "3. **SQL:**\n",
    "   - While not a traditional programming language, SQL (Structured Query Language) is essential for working with relational databases. Data scientists often use SQL for querying, aggregating, and transforming data stored in databases.\n",
    "\n",
    "4. **Julia:**\n",
    "   - Julia is gaining popularity for its high-performance computing capabilities. It is designed for numerical and scientific computing, making it suitable for data science tasks.\n",
    "\n",
    "5. **Scala:**\n",
    "   - Scala is often used in conjunction with Apache Spark for distributed computing. It is a versatile language that combines object-oriented and functional programming paradigms.\n",
    "\n"
   ]
  },
  {
   "cell_type": "markdown",
   "id": "a349667d-e4f4-4ead-9654-24b52708ef7f",
   "metadata": {},
   "source": [
    "Some of the commonly used libraries by Data Scientists include:\n",
    "\n",
    "1. **NumPy:**\n",
    "   - NumPy is a fundamental package for scientific computing in Python. It provides support for large, multi-dimensional arrays and matrices, along with mathematical functions to operate on these arrays.\n",
    "\n",
    "2. **Pandas:**\n",
    "   - Pandas is a powerful data manipulation and analysis library for Python. It offers data structures like DataFrame for efficient handling and analysis of structured data.\n",
    "\n",
    "3. **scikit-learn:**\n",
    "   - scikit-learn is a machine learning library for Python. It provides simple and efficient tools for data mining and data analysis and is built on NumPy, SciPy, and Matplotlib.\n",
    "\n",
    "4. **Matplotlib:**\n",
    "   - Matplotlib is a 2D plotting library for Python. It produces high-quality figures suitable for publication and is commonly used for creating visualizations in data analysis.\n",
    "\n",
    "5. **Seaborn:**\n",
    "   - Seaborn is a statistical data visualization library based on Matplotlib. It provides a high-level interface for drawing attractive and informative statistical graphics.\n",
    "\n",
    "6. **TensorFlow:**\n",
    "   - TensorFlow is an open-source machine learning framework developed by Google. It is widely used for building and training deep learning models.\n",
    "\n",
    "7. **PyTorch:**\n",
    "   - PyTorch is another popular open-source machine learning framework. It is known for its dynamic computational graph and is commonly used in research and development of deep learning models.\n",
    "\n",
    "8. **SciPy:**\n",
    "   - SciPy is an open-source library used for scientific and technical computing. It builds on NumPy and provides additional functionality for optimization, signal and image processing, and more.\n"
   ]
  },
  {
   "cell_type": "markdown",
   "id": "d5e908a4-43a4-4e23-a200-c6afaaffa51b",
   "metadata": {},
   "source": [
    "| Data Science Tools      |\n",
    "|-------------------------|\n",
    "| Jupyter Notebook        |\n",
    "| RStudio                 |\n",
    "| VSCode with Extensions  |\n"
   ]
  },
  {
   "cell_type": "markdown",
   "id": "d7bf424e-0e89-4f31-a99a-bf7251427abc",
   "metadata": {},
   "source": [
    "### Arithmetic Expression Examples\n"
   ]
  },
  {
   "cell_type": "markdown",
   "id": "074de236-fad2-46fd-9074-9c917ff0c223",
   "metadata": {},
   "source": [
    "1. **Addition:**\n",
    "   - \\(2 + 3 = 5\\)\n",
    "\n",
    "2. **Subtraction:**\n",
    "   - \\(8 - 4 = 4\\)\n",
    "\n",
    "3. **Multiplication:**\n",
    "   - \\(5 \\times 6 = 30\\)\n",
    "\n",
    "4. **Division:**\n",
    "   - \\(10 \\div 2 = 5\\)\n"
   ]
  },
  {
   "cell_type": "markdown",
   "id": "06610210-0441-4e34-89b8-1e0a1fcaaef3",
   "metadata": {},
   "source": [
    "### This is a simple arithmetic expression to multiply then add integers.\n",
    "result = (3 * 4) + 5\n",
    "result\n"
   ]
  },
  {
   "cell_type": "markdown",
   "id": "8d45060a-38e6-4101-8e39-4c6b51ba6336",
   "metadata": {},
   "source": [
    "### This will convert 200 minutes to hours by dividing by 60.\n",
    "minutes = 200\n",
    "hours = minutes / 60\n",
    "hours\n"
   ]
  },
  {
   "cell_type": "markdown",
   "id": "110466d8-3e42-4d16-9a53-bcc621aee04a",
   "metadata": {},
   "source": [
    "**Objectives:**\n",
    "\n",
    "- List popular languages for Data Science.\n",
    "- Introduce commonly used libraries in Data Science.\n",
    "- Explore different Data Science tools and environments.\n",
    "- Demonstrate basic arithmetic expressions in a code cell.\n",
    "- Illustrate a practical example of converting minutes to hours in Python.\n"
   ]
  },
  {
   "cell_type": "markdown",
   "id": "145e9fc4-0311-422a-a485-6a371ae3004a",
   "metadata": {},
   "source": [
    "## *Author*\n",
    "*Muhammad Muazam*\n"
   ]
  },
  {
   "cell_type": "code",
   "execution_count": null,
   "id": "37274cbc-f24c-4060-a2d5-d60a506057b4",
   "metadata": {},
   "outputs": [],
   "source": []
  }
 ],
 "metadata": {
  "kernelspec": {
   "display_name": "Python 3 (ipykernel)",
   "language": "python",
   "name": "python3"
  },
  "language_info": {
   "codemirror_mode": {
    "name": "ipython",
    "version": 3
   },
   "file_extension": ".py",
   "mimetype": "text/x-python",
   "name": "python",
   "nbconvert_exporter": "python",
   "pygments_lexer": "ipython3",
   "version": "3.11.5"
  }
 },
 "nbformat": 4,
 "nbformat_minor": 5
}
